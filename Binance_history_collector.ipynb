{
 "cells": [
  {
   "cell_type": "code",
   "execution_count": 44,
   "metadata": {},
   "outputs": [],
   "source": [
    "import os\n",
    "import numpy as np\n",
    "import pandas as pd\n",
    "from datetime import datetime\n",
    "from binance.client import Client"
   ]
  },
  {
   "cell_type": "code",
   "execution_count": 2,
   "metadata": {},
   "outputs": [],
   "source": [
    "api_key = os.environ.get('binance_api')\n",
    "api_secret = os.environ.get('binance_secret_key')"
   ]
  },
  {
   "cell_type": "code",
   "execution_count": 3,
   "metadata": {},
   "outputs": [],
   "source": [
    "client = Client(api_key, api_secret)"
   ]
  },
  {
   "cell_type": "code",
   "execution_count": 22,
   "metadata": {},
   "outputs": [
    {
     "name": "stdout",
     "output_type": "stream",
     "text": [
      "2017-08-18 03:00:00\n"
     ]
    }
   ],
   "source": [
    "timestamp = client._get_earliest_valid_timestamp('BTCUSDT', '1m')\n",
    "print(datetime.fromtimestamp(timestamp / 1000))"
   ]
  },
  {
   "cell_type": "code",
   "execution_count": 23,
   "metadata": {},
   "outputs": [],
   "source": [
    "bars = client.get_historical_klines('BTCUSDT', '1m', timestamp, limit=1000)"
   ]
  },
  {
   "cell_type": "code",
   "execution_count": 48,
   "metadata": {},
   "outputs": [],
   "source": [
    "data = []\n",
    "for bar in bars:\n",
    "    temp = {\n",
    "        \"Time_open\" : datetime.fromtimestamp(bar[0] / 1000),\n",
    "        \"Open\" : bar[1],\n",
    "        \"High\" : bar[2],\n",
    "        \"Low\" : bar[3],\n",
    "        \"Close\" : bar[4],\n",
    "        \"Volume\" : bar[5],\n",
    "        \"Time_Close\" : datetime.fromtimestamp(bar[6] / 1000),\n",
    "        \"Trades\" : bar[8]\n",
    "    }\n",
    "    data.append(temp)\n",
    "    "
   ]
  },
  {
   "cell_type": "code",
   "execution_count": 49,
   "metadata": {},
   "outputs": [],
   "source": [
    "df = pd.DataFrame(data)"
   ]
  },
  {
   "cell_type": "code",
   "execution_count": 50,
   "metadata": {},
   "outputs": [
    {
     "data": {
      "text/html": [
       "<div>\n",
       "<style scoped>\n",
       "    .dataframe tbody tr th:only-of-type {\n",
       "        vertical-align: middle;\n",
       "    }\n",
       "\n",
       "    .dataframe tbody tr th {\n",
       "        vertical-align: top;\n",
       "    }\n",
       "\n",
       "    .dataframe thead th {\n",
       "        text-align: right;\n",
       "    }\n",
       "</style>\n",
       "<table border=\"1\" class=\"dataframe\">\n",
       "  <thead>\n",
       "    <tr style=\"text-align: right;\">\n",
       "      <th></th>\n",
       "      <th>Time_open</th>\n",
       "      <th>Open</th>\n",
       "      <th>High</th>\n",
       "      <th>Low</th>\n",
       "      <th>Close</th>\n",
       "      <th>Volume</th>\n",
       "      <th>Time_Close</th>\n",
       "      <th>Trades</th>\n",
       "    </tr>\n",
       "  </thead>\n",
       "  <tbody>\n",
       "    <tr>\n",
       "      <th>0</th>\n",
       "      <td>2017-08-17 07:00:00</td>\n",
       "      <td>4261.48000000</td>\n",
       "      <td>4261.48000000</td>\n",
       "      <td>4261.48000000</td>\n",
       "      <td>4261.48000000</td>\n",
       "      <td>1.77518300</td>\n",
       "      <td>2017-08-17 07:00:59.999</td>\n",
       "      <td>3</td>\n",
       "    </tr>\n",
       "    <tr>\n",
       "      <th>1</th>\n",
       "      <td>2017-08-17 07:01:00</td>\n",
       "      <td>4261.48000000</td>\n",
       "      <td>4261.48000000</td>\n",
       "      <td>4261.48000000</td>\n",
       "      <td>4261.48000000</td>\n",
       "      <td>0.00000000</td>\n",
       "      <td>2017-08-17 07:01:59.999</td>\n",
       "      <td>0</td>\n",
       "    </tr>\n",
       "    <tr>\n",
       "      <th>2</th>\n",
       "      <td>2017-08-17 07:02:00</td>\n",
       "      <td>4280.56000000</td>\n",
       "      <td>4280.56000000</td>\n",
       "      <td>4280.56000000</td>\n",
       "      <td>4280.56000000</td>\n",
       "      <td>0.26107400</td>\n",
       "      <td>2017-08-17 07:02:59.999</td>\n",
       "      <td>2</td>\n",
       "    </tr>\n",
       "    <tr>\n",
       "      <th>3</th>\n",
       "      <td>2017-08-17 07:03:00</td>\n",
       "      <td>4261.48000000</td>\n",
       "      <td>4261.48000000</td>\n",
       "      <td>4261.48000000</td>\n",
       "      <td>4261.48000000</td>\n",
       "      <td>0.01200800</td>\n",
       "      <td>2017-08-17 07:03:59.999</td>\n",
       "      <td>3</td>\n",
       "    </tr>\n",
       "    <tr>\n",
       "      <th>4</th>\n",
       "      <td>2017-08-17 07:04:00</td>\n",
       "      <td>4261.48000000</td>\n",
       "      <td>4261.48000000</td>\n",
       "      <td>4261.48000000</td>\n",
       "      <td>4261.48000000</td>\n",
       "      <td>0.14079600</td>\n",
       "      <td>2017-08-17 07:04:59.999</td>\n",
       "      <td>1</td>\n",
       "    </tr>\n",
       "    <tr>\n",
       "      <th>...</th>\n",
       "      <td>...</td>\n",
       "      <td>...</td>\n",
       "      <td>...</td>\n",
       "      <td>...</td>\n",
       "      <td>...</td>\n",
       "      <td>...</td>\n",
       "      <td>...</td>\n",
       "      <td>...</td>\n",
       "    </tr>\n",
       "    <tr>\n",
       "      <th>1821622</th>\n",
       "      <td>2021-02-07 11:10:00</td>\n",
       "      <td>39394.43000000</td>\n",
       "      <td>39503.57000000</td>\n",
       "      <td>39390.83000000</td>\n",
       "      <td>39448.72000000</td>\n",
       "      <td>43.12243000</td>\n",
       "      <td>2021-02-07 11:10:59.999</td>\n",
       "      <td>1341</td>\n",
       "    </tr>\n",
       "    <tr>\n",
       "      <th>1821623</th>\n",
       "      <td>2021-02-07 11:11:00</td>\n",
       "      <td>39446.91000000</td>\n",
       "      <td>39499.98000000</td>\n",
       "      <td>39428.57000000</td>\n",
       "      <td>39485.56000000</td>\n",
       "      <td>31.97026000</td>\n",
       "      <td>2021-02-07 11:11:59.999</td>\n",
       "      <td>797</td>\n",
       "    </tr>\n",
       "    <tr>\n",
       "      <th>1821624</th>\n",
       "      <td>2021-02-07 11:12:00</td>\n",
       "      <td>39485.56000000</td>\n",
       "      <td>39529.43000000</td>\n",
       "      <td>39462.80000000</td>\n",
       "      <td>39502.45000000</td>\n",
       "      <td>52.60358900</td>\n",
       "      <td>2021-02-07 11:12:59.999</td>\n",
       "      <td>1208</td>\n",
       "    </tr>\n",
       "    <tr>\n",
       "      <th>1821625</th>\n",
       "      <td>2021-02-07 11:13:00</td>\n",
       "      <td>39501.45000000</td>\n",
       "      <td>39508.54000000</td>\n",
       "      <td>39454.62000000</td>\n",
       "      <td>39467.32000000</td>\n",
       "      <td>31.22262800</td>\n",
       "      <td>2021-02-07 11:13:59.999</td>\n",
       "      <td>903</td>\n",
       "    </tr>\n",
       "    <tr>\n",
       "      <th>1821626</th>\n",
       "      <td>2021-02-07 11:14:00</td>\n",
       "      <td>39467.32000000</td>\n",
       "      <td>39494.01000000</td>\n",
       "      <td>39465.32000000</td>\n",
       "      <td>39494.01000000</td>\n",
       "      <td>16.06983400</td>\n",
       "      <td>2021-02-07 11:14:59.999</td>\n",
       "      <td>377</td>\n",
       "    </tr>\n",
       "  </tbody>\n",
       "</table>\n",
       "<p>1821627 rows × 8 columns</p>\n",
       "</div>"
      ],
      "text/plain": [
       "                  Time_open            Open            High             Low  \\\n",
       "0       2017-08-17 07:00:00   4261.48000000   4261.48000000   4261.48000000   \n",
       "1       2017-08-17 07:01:00   4261.48000000   4261.48000000   4261.48000000   \n",
       "2       2017-08-17 07:02:00   4280.56000000   4280.56000000   4280.56000000   \n",
       "3       2017-08-17 07:03:00   4261.48000000   4261.48000000   4261.48000000   \n",
       "4       2017-08-17 07:04:00   4261.48000000   4261.48000000   4261.48000000   \n",
       "...                     ...             ...             ...             ...   \n",
       "1821622 2021-02-07 11:10:00  39394.43000000  39503.57000000  39390.83000000   \n",
       "1821623 2021-02-07 11:11:00  39446.91000000  39499.98000000  39428.57000000   \n",
       "1821624 2021-02-07 11:12:00  39485.56000000  39529.43000000  39462.80000000   \n",
       "1821625 2021-02-07 11:13:00  39501.45000000  39508.54000000  39454.62000000   \n",
       "1821626 2021-02-07 11:14:00  39467.32000000  39494.01000000  39465.32000000   \n",
       "\n",
       "                  Close       Volume              Time_Close  Trades  \n",
       "0         4261.48000000   1.77518300 2017-08-17 07:00:59.999       3  \n",
       "1         4261.48000000   0.00000000 2017-08-17 07:01:59.999       0  \n",
       "2         4280.56000000   0.26107400 2017-08-17 07:02:59.999       2  \n",
       "3         4261.48000000   0.01200800 2017-08-17 07:03:59.999       3  \n",
       "4         4261.48000000   0.14079600 2017-08-17 07:04:59.999       1  \n",
       "...                 ...          ...                     ...     ...  \n",
       "1821622  39448.72000000  43.12243000 2021-02-07 11:10:59.999    1341  \n",
       "1821623  39485.56000000  31.97026000 2021-02-07 11:11:59.999     797  \n",
       "1821624  39502.45000000  52.60358900 2021-02-07 11:12:59.999    1208  \n",
       "1821625  39467.32000000  31.22262800 2021-02-07 11:13:59.999     903  \n",
       "1821626  39494.01000000  16.06983400 2021-02-07 11:14:59.999     377  \n",
       "\n",
       "[1821627 rows x 8 columns]"
      ]
     },
     "execution_count": 50,
     "metadata": {},
     "output_type": "execute_result"
    }
   ],
   "source": [
    "df"
   ]
  },
  {
   "cell_type": "code",
   "execution_count": 51,
   "metadata": {},
   "outputs": [],
   "source": [
    "df.to_csv('BTCUSDT.csv')"
   ]
  },
  {
   "cell_type": "markdown",
   "metadata": {},
   "source": [
    "# Test"
   ]
  },
  {
   "cell_type": "code",
   "execution_count": 25,
   "metadata": {},
   "outputs": [
    {
     "name": "stdout",
     "output_type": "stream",
     "text": [
      "1502942400000\n",
      "1612689240000\n"
     ]
    }
   ],
   "source": [
    "print(bars[0][0])\n",
    "print(bars[-1][0])"
   ]
  },
  {
   "cell_type": "code",
   "execution_count": 32,
   "metadata": {},
   "outputs": [
    {
     "data": {
      "text/plain": [
       "21859524"
      ]
     },
     "execution_count": 32,
     "metadata": {},
     "output_type": "execute_result"
    }
   ],
   "source": [
    "np.size(bars)"
   ]
  },
  {
   "cell_type": "code",
   "execution_count": 36,
   "metadata": {},
   "outputs": [
    {
     "data": {
      "text/plain": [
       "15180.225"
      ]
     },
     "execution_count": 36,
     "metadata": {},
     "output_type": "execute_result"
    }
   ],
   "source": [
    "21859524/60/24"
   ]
  },
  {
   "cell_type": "code",
   "execution_count": 34,
   "metadata": {},
   "outputs": [
    {
     "name": "stdout",
     "output_type": "stream",
     "text": [
      "2017-08-17 07:00:00\n",
      "2021-02-07 11:14:00\n"
     ]
    }
   ],
   "source": [
    "print(datetime.fromtimestamp(1502942400000 / 1000))\n",
    "print(datetime.fromtimestamp(1612689240000 / 1000))"
   ]
  }
 ],
 "metadata": {
  "kernelspec": {
   "display_name": "Python 3",
   "language": "python",
   "name": "python3"
  },
  "language_info": {
   "codemirror_mode": {
    "name": "ipython",
    "version": 3
   },
   "file_extension": ".py",
   "mimetype": "text/x-python",
   "name": "python",
   "nbconvert_exporter": "python",
   "pygments_lexer": "ipython3",
   "version": "3.8.5"
  }
 },
 "nbformat": 4,
 "nbformat_minor": 4
}
